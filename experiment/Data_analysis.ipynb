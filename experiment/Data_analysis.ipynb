{
 "cells": [
  {
   "cell_type": "code",
   "execution_count": 1,
   "id": "2c6df7a6",
   "metadata": {},
   "outputs": [],
   "source": [
    "import os\n",
    "import pandas as pd\n",
    "import numpy as np\n",
    "from sklearn.metrics import f1_score, precision_score, recall_score"
   ]
  },
  {
   "cell_type": "code",
   "execution_count": 22,
   "id": "8d244817",
   "metadata": {},
   "outputs": [],
   "source": [
    "deep_intronic = pd.read_csv('final/deep_intronic/veta_output/tools_benchmark/all_types/results_tsv/preds_all_types_all_class.tsv', \n",
    "                     sep='\\t')\n",
    "deep_intronic_moderate = pd.read_csv('final/deep_intronic_moderate/veta_output/tools_benchmark/all_types/results_tsv/preds_all_types_all_class.tsv', \n",
    "                     sep='\\t')\n",
    "\n",
    "periexonic = pd.read_csv('final/periexonic/veta_output/tools_benchmark/all_types/results_tsv/preds_all_types_all_class.tsv', \n",
    "                     sep='\\t')\n",
    "periexonic_moderate = pd.read_csv('final/periexonic_moderate/veta_output/tools_benchmark/all_types/results_tsv/preds_all_types_all_class.tsv', \n",
    "                     sep='\\t')"
   ]
  },
  {
   "cell_type": "code",
   "execution_count": 23,
   "id": "b277a17b",
   "metadata": {},
   "outputs": [
    {
     "data": {
      "text/html": [
       "<div>\n",
       "<style scoped>\n",
       "    .dataframe tbody tr th:only-of-type {\n",
       "        vertical-align: middle;\n",
       "    }\n",
       "\n",
       "    .dataframe tbody tr th {\n",
       "        vertical-align: top;\n",
       "    }\n",
       "\n",
       "    .dataframe thead th {\n",
       "        text-align: right;\n",
       "    }\n",
       "</style>\n",
       "<table border=\"1\" class=\"dataframe\">\n",
       "  <thead>\n",
       "    <tr style=\"text-align: right;\">\n",
       "      <th></th>\n",
       "      <th>chr</th>\n",
       "      <th>pos</th>\n",
       "      <th>ref</th>\n",
       "      <th>alt</th>\n",
       "      <th>SYMBOL</th>\n",
       "      <th>SQUIRLS_prediction</th>\n",
       "      <th>SpliceAI_prediction</th>\n",
       "      <th>Pangolin_prediction</th>\n",
       "      <th>AlphaGenome_prediction</th>\n",
       "      <th>label</th>\n",
       "    </tr>\n",
       "  </thead>\n",
       "  <tbody>\n",
       "    <tr>\n",
       "      <th>0</th>\n",
       "      <td>1</td>\n",
       "      <td>935279</td>\n",
       "      <td>G</td>\n",
       "      <td>T</td>\n",
       "      <td>SAMD11</td>\n",
       "      <td>False</td>\n",
       "      <td>False</td>\n",
       "      <td>False</td>\n",
       "      <td>NaN</td>\n",
       "      <td>False</td>\n",
       "    </tr>\n",
       "    <tr>\n",
       "      <th>1</th>\n",
       "      <td>1</td>\n",
       "      <td>9953838</td>\n",
       "      <td>C</td>\n",
       "      <td>T</td>\n",
       "      <td>TMEM274P</td>\n",
       "      <td>False</td>\n",
       "      <td>False</td>\n",
       "      <td>NaN</td>\n",
       "      <td>NaN</td>\n",
       "      <td>False</td>\n",
       "    </tr>\n",
       "    <tr>\n",
       "      <th>2</th>\n",
       "      <td>1</td>\n",
       "      <td>9956947</td>\n",
       "      <td>G</td>\n",
       "      <td>T</td>\n",
       "      <td>NMNAT1</td>\n",
       "      <td>False</td>\n",
       "      <td>False</td>\n",
       "      <td>NaN</td>\n",
       "      <td>NaN</td>\n",
       "      <td>False</td>\n",
       "    </tr>\n",
       "    <tr>\n",
       "      <th>3</th>\n",
       "      <td>1</td>\n",
       "      <td>9964768</td>\n",
       "      <td>T</td>\n",
       "      <td>C</td>\n",
       "      <td>NMNAT1</td>\n",
       "      <td>False</td>\n",
       "      <td>False</td>\n",
       "      <td>NaN</td>\n",
       "      <td>NaN</td>\n",
       "      <td>False</td>\n",
       "    </tr>\n",
       "    <tr>\n",
       "      <th>4</th>\n",
       "      <td>1</td>\n",
       "      <td>9973961</td>\n",
       "      <td>C</td>\n",
       "      <td>G</td>\n",
       "      <td>NMNAT1</td>\n",
       "      <td>False</td>\n",
       "      <td>False</td>\n",
       "      <td>NaN</td>\n",
       "      <td>NaN</td>\n",
       "      <td>False</td>\n",
       "    </tr>\n",
       "  </tbody>\n",
       "</table>\n",
       "</div>"
      ],
      "text/plain": [
       "  chr      pos ref alt    SYMBOL SQUIRLS_prediction SpliceAI_prediction  \\\n",
       "0   1   935279   G   T    SAMD11              False               False   \n",
       "1   1  9953838   C   T  TMEM274P              False               False   \n",
       "2   1  9956947   G   T    NMNAT1              False               False   \n",
       "3   1  9964768   T   C    NMNAT1              False               False   \n",
       "4   1  9973961   C   G    NMNAT1              False               False   \n",
       "\n",
       "  Pangolin_prediction AlphaGenome_prediction  label  \n",
       "0               False                    NaN  False  \n",
       "1                 NaN                    NaN  False  \n",
       "2                 NaN                    NaN  False  \n",
       "3                 NaN                    NaN  False  \n",
       "4                 NaN                    NaN  False  "
      ]
     },
     "execution_count": 23,
     "metadata": {},
     "output_type": "execute_result"
    }
   ],
   "source": [
    "deep_intronic.head()"
   ]
  },
  {
   "cell_type": "markdown",
   "id": "dcc9c5e3",
   "metadata": {},
   "source": [
    "# Analyze metrics for all tools\n",
    "\n",
    "Transform strings to numeric"
   ]
  },
  {
   "cell_type": "code",
   "execution_count": 24,
   "id": "64c6352b",
   "metadata": {},
   "outputs": [],
   "source": [
    "dfs = [deep_intronic, deep_intronic_moderate, periexonic, periexonic_moderate]\n",
    "for df in dfs:\n",
    "    for col in ['SpliceAI_prediction', 'Pangolin_prediction', 'SQUIRLS_prediction', 'AlphaGenome_prediction', 'label']:\n",
    "        df[col] = pd.to_numeric(df[col])\n"
   ]
  },
  {
   "cell_type": "code",
   "execution_count": 25,
   "id": "2fdfc5ee",
   "metadata": {},
   "outputs": [],
   "source": [
    "for df in [deep_intronic, deep_intronic_moderate, periexonic, periexonic_moderate]:\n",
    "    df['Pangolin_prediction'] = df['Pangolin_prediction'].fillna(0)\n",
    "    df['SpliceAI_prediction'] = df['SpliceAI_prediction'].fillna(0)\n",
    "    df['SQUIRLS_prediction'] = df['SQUIRLS_prediction'].fillna(0)\n",
    "    df['AlphaGenome_prediction'] = df['AlphaGenome_prediction'].fillna(0)\n"
   ]
  },
  {
   "cell_type": "markdown",
   "id": "840f2982",
   "metadata": {},
   "source": [
    "## Deep intronic\n",
    "\n",
    "#### Precision"
   ]
  },
  {
   "cell_type": "code",
   "execution_count": 26,
   "id": "7395447c",
   "metadata": {},
   "outputs": [
    {
     "name": "stdout",
     "output_type": "stream",
     "text": [
      "Precision\n",
      "\n",
      "Pathogenic variants\n",
      "Pangolin: 0.3132530120481928\n",
      "SpliceAI: 0.2532467532467532\n",
      "SQUIRLS: 0.2222222222222222\n",
      "AlphaGenome: 0.0\n",
      "\n",
      "Moderate variants\n",
      "Pangolin: 0.08064516129032258\n",
      "SpliceAI: 0.07258064516129033\n",
      "SQUIRLS: 0.06666666666666667\n",
      "AlphaGenome: 0.0\n"
     ]
    }
   ],
   "source": [
    "print('Precision')\n",
    "print('')\n",
    "print('Pathogenic variants')\n",
    "\n",
    "pang_pr_score_p = precision_score(deep_intronic['label'], deep_intronic['Pangolin_prediction'])\n",
    "print(f'Pangolin: {pang_pr_score_p}')\n",
    "\n",
    "sai_pr_score_p = precision_score(deep_intronic['label'], deep_intronic['SpliceAI_prediction'])\n",
    "print(f'SpliceAI: {sai_pr_score_p}')\n",
    "\n",
    "sq_pr_score_p = precision_score(deep_intronic['label'], deep_intronic['SQUIRLS_prediction'])\n",
    "print(f'SQUIRLS: {sq_pr_score_p}')\n",
    "\n",
    "al_pr_score_p = precision_score(deep_intronic['label'], deep_intronic['AlphaGenome_prediction'])\n",
    "print(f'AlphaGenome: {al_pr_score_p}')\n",
    "\n",
    "print('')\n",
    "\n",
    "print('Moderate variants')\n",
    "\n",
    "pang_pr_score_m = precision_score(deep_intronic_moderate['label'], deep_intronic_moderate['Pangolin_prediction'])\n",
    "print(f'Pangolin: {pang_pr_score_m}')\n",
    "\n",
    "sai_pr_score_m = precision_score(deep_intronic_moderate['label'], deep_intronic_moderate['SpliceAI_prediction'])\n",
    "print(f'SpliceAI: {sai_pr_score_m}')\n",
    "\n",
    "sq_pr_score_m = precision_score(deep_intronic_moderate['label'], deep_intronic_moderate['SQUIRLS_prediction'])\n",
    "print(f'SQUIRLS: {sq_pr_score_m}')\n",
    "\n",
    "al_pr_score_m = precision_score(deep_intronic_moderate['label'], deep_intronic_moderate['AlphaGenome_prediction'])\n",
    "print(f'AlphaGenome: {al_pr_score_m}')"
   ]
  },
  {
   "cell_type": "markdown",
   "id": "8a227562",
   "metadata": {},
   "source": [
    "#### Recall"
   ]
  },
  {
   "cell_type": "code",
   "execution_count": 27,
   "id": "b1c796a9",
   "metadata": {},
   "outputs": [
    {
     "name": "stdout",
     "output_type": "stream",
     "text": [
      "Recall\n",
      "\n",
      "Pathogenic variants\n",
      "Pangolin: 0.18571428571428572\n",
      "SpliceAI: 0.2785714285714286\n",
      "SQUIRLS: 0.05714285714285714\n",
      "AlphaGenome: 0.0\n",
      "\n",
      "Moderate variants\n",
      "Pangolin: 0.11363636363636363\n",
      "SpliceAI: 0.20454545454545456\n",
      "SQUIRLS: 0.045454545454545456\n",
      "AlphaGenome: 0.0\n"
     ]
    }
   ],
   "source": [
    "print('Recall')\n",
    "print('')\n",
    "print('Pathogenic variants')\n",
    "\n",
    "pang_rec_score_p = recall_score(deep_intronic['label'], deep_intronic['Pangolin_prediction'])\n",
    "print(f'Pangolin: {pang_rec_score_p}')\n",
    "\n",
    "sai_rec_score_p = recall_score(deep_intronic['label'], deep_intronic['SpliceAI_prediction'])\n",
    "print(f'SpliceAI: {sai_rec_score_p}')\n",
    "\n",
    "sq_rec_score_p = recall_score(deep_intronic['label'], deep_intronic['SQUIRLS_prediction'])\n",
    "print(f'SQUIRLS: {sq_rec_score_p}')\n",
    "\n",
    "al_rec_score_p = recall_score(deep_intronic['label'], deep_intronic['AlphaGenome_prediction'])\n",
    "print(f'AlphaGenome: {al_rec_score_p}')\n",
    "\n",
    "print('')\n",
    "\n",
    "print('Moderate variants')\n",
    "\n",
    "pang_rec_score_m = recall_score(deep_intronic_moderate['label'], deep_intronic_moderate['Pangolin_prediction'])\n",
    "print(f'Pangolin: {pang_rec_score_m}')\n",
    "\n",
    "sai_rec_score_m = recall_score(deep_intronic_moderate['label'], deep_intronic_moderate['SpliceAI_prediction'])\n",
    "print(f'SpliceAI: {sai_rec_score_m}')\n",
    "\n",
    "sq_rec_score_m = recall_score(deep_intronic_moderate['label'], deep_intronic_moderate['SQUIRLS_prediction'])\n",
    "print(f'SQUIRLS: {sq_rec_score_m}')\n",
    "\n",
    "al_rec_score_m = recall_score(deep_intronic_moderate['label'], deep_intronic_moderate['AlphaGenome_prediction'])\n",
    "print(f'AlphaGenome: {al_rec_score_m}')"
   ]
  },
  {
   "cell_type": "markdown",
   "id": "c382d70e",
   "metadata": {},
   "source": [
    "#### F1 score"
   ]
  },
  {
   "cell_type": "code",
   "execution_count": 28,
   "id": "472cc7f1",
   "metadata": {},
   "outputs": [
    {
     "name": "stdout",
     "output_type": "stream",
     "text": [
      "F1 score\n",
      "\n",
      "Pathogenic variants\n",
      "Pangolin: 0.23318385650224216\n",
      "SpliceAI: 0.2653061224489796\n",
      "SQUIRLS: 0.09090909090909091\n",
      "AlphaGenome: 0.0\n",
      "\n",
      "Moderate variants\n",
      "Pangolin: 0.09433962264150944\n",
      "SpliceAI: 0.10714285714285714\n",
      "SQUIRLS: 0.05405405405405406\n",
      "AlphaGenome: 0.0\n"
     ]
    }
   ],
   "source": [
    "print('F1 score')\n",
    "print('')\n",
    "print('Pathogenic variants')\n",
    "\n",
    "pang_f1_score_p = f1_score(deep_intronic['label'], deep_intronic['Pangolin_prediction'])\n",
    "print(f'Pangolin: {pang_f1_score_p}')\n",
    "\n",
    "sai_f1_score_p = f1_score(deep_intronic['label'], deep_intronic['SpliceAI_prediction'])\n",
    "print(f'SpliceAI: {sai_f1_score_p}')\n",
    "\n",
    "squi_f1_score_p = f1_score(deep_intronic['label'], deep_intronic['SQUIRLS_prediction'])\n",
    "print(f'SQUIRLS: {squi_f1_score_p}')\n",
    "\n",
    "al_f1_score_p = f1_score(deep_intronic['label'], deep_intronic['AlphaGenome_prediction'])\n",
    "print(f'AlphaGenome: {al_f1_score_p}')\n",
    "\n",
    "print('')\n",
    "\n",
    "print('Moderate variants')\n",
    "\n",
    "pang_f1_score_m = f1_score(deep_intronic_moderate['label'], deep_intronic_moderate['Pangolin_prediction'])\n",
    "print(f'Pangolin: {pang_f1_score_m}')\n",
    "\n",
    "sai_f1_score_m = f1_score(deep_intronic_moderate['label'], deep_intronic_moderate['SpliceAI_prediction'])\n",
    "print(f'SpliceAI: {sai_f1_score_m}')\n",
    "\n",
    "squi_f1_score_m = f1_score(deep_intronic_moderate['label'], deep_intronic_moderate['SQUIRLS_prediction'])\n",
    "print(f'SQUIRLS: {squi_f1_score_m}')\n",
    "\n",
    "al_f1_score_m = f1_score(deep_intronic_moderate['label'], deep_intronic_moderate['AlphaGenome_prediction'])\n",
    "print(f'AlphaGenome: {al_f1_score_m}')"
   ]
  },
  {
   "cell_type": "markdown",
   "id": "926731bd",
   "metadata": {},
   "source": [
    "## Periexonic"
   ]
  },
  {
   "cell_type": "markdown",
   "id": "29c8e201",
   "metadata": {},
   "source": [
    "#### Precision"
   ]
  },
  {
   "cell_type": "code",
   "execution_count": 29,
   "id": "43c114ec",
   "metadata": {},
   "outputs": [
    {
     "name": "stdout",
     "output_type": "stream",
     "text": [
      "Precision\n",
      "\n",
      "Pathogenic variants\n",
      "Pangolin: 0.2954070981210856\n",
      "SpliceAI: 0.2712022367194781\n",
      "SQUIRLS: 0.26547085201793724\n",
      "AlphaGenome: 0.5379746835443038\n",
      "\n",
      "Moderate variants\n",
      "Pangolin: 0.1837968561064087\n",
      "SpliceAI: 0.1689691817215728\n",
      "SQUIRLS: 0.15305067218200621\n",
      "AlphaGenome: 0.0\n"
     ]
    }
   ],
   "source": [
    "print('Precision')\n",
    "print('')\n",
    "print('Pathogenic variants')\n",
    "\n",
    "pang_pr_score_p = precision_score(periexonic['label'], periexonic['Pangolin_prediction'])\n",
    "print(f'Pangolin: {pang_pr_score_p}')\n",
    "\n",
    "sai_pr_score_p = precision_score(periexonic['label'], periexonic['SpliceAI_prediction'])\n",
    "print(f'SpliceAI: {sai_pr_score_p}')\n",
    "\n",
    "sq_pr_score_p = precision_score(periexonic['label'], periexonic['SQUIRLS_prediction'])\n",
    "print(f'SQUIRLS: {sq_pr_score_p}')\n",
    "\n",
    "al_pr_score_p = precision_score(periexonic['label'], periexonic['AlphaGenome_prediction'])\n",
    "print(f'AlphaGenome: {al_pr_score_p}')\n",
    "\n",
    "print('')\n",
    "\n",
    "print('Moderate variants')\n",
    "\n",
    "pang_pr_score_m = precision_score(periexonic_moderate['label'], periexonic_moderate['Pangolin_prediction'])\n",
    "print(f'Pangolin: {pang_pr_score_m}')\n",
    "\n",
    "sai_pr_score_m = precision_score(periexonic_moderate['label'], periexonic_moderate['SpliceAI_prediction'])\n",
    "print(f'SpliceAI: {sai_pr_score_m}')\n",
    "\n",
    "squi_pr_score_m = precision_score(periexonic_moderate['label'], periexonic_moderate['SQUIRLS_prediction'])\n",
    "print(f'SQUIRLS: {squi_pr_score_m}')\n",
    "\n",
    "al_pr_score_m = precision_score(periexonic_moderate['label'], periexonic_moderate['AlphaGenome_prediction'])\n",
    "print(f'AlphaGenome: {al_pr_score_m}')"
   ]
  },
  {
   "cell_type": "markdown",
   "id": "27e9af4e",
   "metadata": {},
   "source": [
    "#### Recall"
   ]
  },
  {
   "cell_type": "code",
   "execution_count": 30,
   "id": "b7eb6250",
   "metadata": {},
   "outputs": [
    {
     "name": "stdout",
     "output_type": "stream",
     "text": [
      "Recall\n",
      "\n",
      "Pathogenic variants\n",
      "Pangolin: 0.8179190751445087\n",
      "SpliceAI: 0.8410404624277457\n",
      "SQUIRLS: 0.8554913294797688\n",
      "AlphaGenome: 0.24566473988439305\n",
      "\n",
      "Moderate variants\n",
      "Pangolin: 0.5891472868217055\n",
      "SpliceAI: 0.6162790697674418\n",
      "SQUIRLS: 0.5736434108527132\n",
      "AlphaGenome: 0.0\n"
     ]
    }
   ],
   "source": [
    "print('Recall')\n",
    "print('')\n",
    "print('Pathogenic variants')\n",
    "\n",
    "pang_rec_score_p = recall_score(periexonic['label'], periexonic['Pangolin_prediction'])\n",
    "print(f'Pangolin: {pang_rec_score_p}')\n",
    "\n",
    "sai_rec_score_p = recall_score(periexonic['label'], periexonic['SpliceAI_prediction'])\n",
    "print(f'SpliceAI: {sai_rec_score_p}')\n",
    "\n",
    "squi_rec_score_p = recall_score(periexonic['label'], periexonic['SQUIRLS_prediction'])\n",
    "print(f'SQUIRLS: {squi_rec_score_p}')\n",
    "\n",
    "al_rec_score_p = recall_score(periexonic['label'], periexonic['AlphaGenome_prediction'])\n",
    "print(f'AlphaGenome: {al_rec_score_p}')\n",
    "\n",
    "print('')\n",
    "\n",
    "print('Moderate variants')\n",
    "\n",
    "pang_rec_score_m = recall_score(periexonic_moderate['label'], periexonic_moderate['Pangolin_prediction'])\n",
    "print(f'Pangolin: {pang_rec_score_m}')\n",
    "\n",
    "sai_rec_score_m = recall_score(periexonic_moderate['label'], periexonic_moderate['SpliceAI_prediction'])\n",
    "print(f'SpliceAI: {sai_rec_score_m}')\n",
    "\n",
    "squi_rec_score_m = recall_score(periexonic_moderate['label'], periexonic_moderate['SQUIRLS_prediction'])\n",
    "print(f'SQUIRLS: {squi_rec_score_m}')\n",
    "\n",
    "al_rec_score_m = recall_score(periexonic_moderate['label'], periexonic_moderate['AlphaGenome_prediction'])\n",
    "print(f'AlphaGenome: {al_rec_score_m}')"
   ]
  },
  {
   "cell_type": "markdown",
   "id": "3ce8e055",
   "metadata": {},
   "source": [
    "#### F1 score"
   ]
  },
  {
   "cell_type": "code",
   "execution_count": 31,
   "id": "a59b3c64",
   "metadata": {},
   "outputs": [
    {
     "name": "stdout",
     "output_type": "stream",
     "text": [
      "F1 score\n",
      "\n",
      "Pathogenic variants\n",
      "Pangolin: 0.4340490797546012\n",
      "SpliceAI: 0.41014799154334036\n",
      "SQUIRLS: 0.405201916495551\n",
      "AlphaGenome: 0.3373015873015873\n",
      "\n",
      "Moderate variants\n",
      "Pangolin: 0.280184331797235\n",
      "SpliceAI: 0.2652210175145955\n",
      "SQUIRLS: 0.2416326530612245\n",
      "AlphaGenome: 0.0\n"
     ]
    }
   ],
   "source": [
    "print('F1 score')\n",
    "print('')\n",
    "print('Pathogenic variants')\n",
    "\n",
    "pang_f1_score_p = f1_score(periexonic['label'], periexonic['Pangolin_prediction'])\n",
    "print(f'Pangolin: {pang_f1_score_p}')\n",
    "\n",
    "sai_f1_score_p = f1_score(periexonic['label'], periexonic['SpliceAI_prediction'])\n",
    "print(f'SpliceAI: {sai_f1_score_p}')\n",
    "\n",
    "sq_f1_score_p = f1_score(periexonic['label'], periexonic['SQUIRLS_prediction'])\n",
    "print(f'SQUIRLS: {sq_f1_score_p}')\n",
    "\n",
    "al_f1_score_p = f1_score(periexonic['label'], periexonic['AlphaGenome_prediction'])\n",
    "print(f'AlphaGenome: {al_f1_score_p}')\n",
    "\n",
    "print('')\n",
    "\n",
    "print('Moderate variants')\n",
    "\n",
    "pang_f1_score_m = f1_score(periexonic_moderate['label'], periexonic_moderate['Pangolin_prediction'])\n",
    "print(f'Pangolin: {pang_f1_score_m}')\n",
    "\n",
    "sai_f1_score_m = f1_score(periexonic_moderate['label'], periexonic_moderate['SpliceAI_prediction'])\n",
    "print(f'SpliceAI: {sai_f1_score_m}')\n",
    "\n",
    "sq_f1_score_m = f1_score(periexonic_moderate['label'], periexonic_moderate['SQUIRLS_prediction'])\n",
    "print(f'SQUIRLS: {sq_f1_score_m}')\n",
    "\n",
    "al_f1_score_m = f1_score(periexonic_moderate['label'], periexonic_moderate['AlphaGenome_prediction'])\n",
    "print(f'AlphaGenome: {al_f1_score_m}')"
   ]
  },
  {
   "cell_type": "markdown",
   "id": "273d5261",
   "metadata": {},
   "source": [
    "# Result table for F1 Score\n",
    "\n",
    "| Tool          | Deep Intronic |            | Periexonic |            |\n",
    "|----------------|---------------|------------|------------|------------|\n",
    "|       | Pathogenic    | Moderate   | Pathogenic | Moderate   |\n",
    "|----------------|---------------|------------|------------|------------|\n",
    "| Pangolin       | 0.233       | 0.094      | 0.434     | 0.280      |\n",
    "| SpliceAI      | 0.265       | 0.107      | 0.410    | 0.265     |\n",
    "| SQUIRLS       | 0.091        | 0.054      | 0.405      | 0.242     |\n",
    "| AlphaGenome   | 0.000        | 0.000      | 0.337      | 0.000      |\n"
   ]
  }
 ],
 "metadata": {
  "kernelspec": {
   "display_name": "pythonProject1",
   "language": "python",
   "name": "python3"
  },
  "language_info": {
   "codemirror_mode": {
    "name": "ipython",
    "version": 3
   },
   "file_extension": ".py",
   "mimetype": "text/x-python",
   "name": "python",
   "nbconvert_exporter": "python",
   "pygments_lexer": "ipython3",
   "version": "3.11.7"
  }
 },
 "nbformat": 4,
 "nbformat_minor": 5
}
